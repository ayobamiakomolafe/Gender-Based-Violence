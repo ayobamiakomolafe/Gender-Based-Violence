{
  "nbformat": 4,
  "nbformat_minor": 0,
  "metadata": {
    "colab": {
      "name": "BERT.ipynb",
      "provenance": [],
      "collapsed_sections": []
    },
    "kernelspec": {
      "name": "python3",
      "display_name": "Python 3"
    },
    "language_info": {
      "name": "python"
    },
    "accelerator": "GPU"
  },
  "cells": [
    {
      "cell_type": "code",
      "metadata": {
        "id": "h61SkHwZUuhw"
      },
      "source": [
        "train='/content/drive/MyDrive/Train.csv'\n",
        "test='/content/drive/MyDrive/Test.csv'"
      ],
      "execution_count": null,
      "outputs": []
    },
    {
      "cell_type": "code",
      "metadata": {
        "id": "jPveEA_7ohws"
      },
      "source": [
        "from google.colab import drive\n",
        "drive.mount('/content/drive')"
      ],
      "execution_count": null,
      "outputs": []
    },
    {
      "cell_type": "code",
      "metadata": {
        "id": "5-wtk39lHWGz"
      },
      "source": [
        "import pandas as pd\n",
        "df_tr=pd.read_csv(train)\n",
        "df_te=pd.read_csv(test)"
      ],
      "execution_count": null,
      "outputs": []
    },
    {
      "cell_type": "code",
      "metadata": {
        "id": "isd8l8TZT5LB"
      },
      "source": [
        "!pip install transformers"
      ],
      "execution_count": null,
      "outputs": []
    },
    {
      "cell_type": "code",
      "metadata": {
        "id": "6wYnuKj-ULLT"
      },
      "source": [
        "from transformers import BertTokenizer, TFBertForSequenceClassification\n",
        "\n",
        "\n",
        "model = TFBertForSequenceClassification.from_pretrained(\"bert-base-uncased\")\n",
        "tokenizer = BertTokenizer.from_pretrained(\"bert-base-uncased\")"
      ],
      "execution_count": null,
      "outputs": []
    },
    {
      "cell_type": "code",
      "metadata": {
        "id": "GsWKSUGlZ7bo"
      },
      "source": [
        "input_ids=[]\n",
        "attention_masks=[]\n",
        "for i in df_tr['tweet'].values:\n",
        "    text=tokenizer.encode_plus(i,add_special_tokens = True,max_length =145, pad_to_max_length = True, return_attention_mask = True)\n",
        "    input_ids.append(text['input_ids'])\n",
        "    attention_masks.append(text['attention_mask'])"
      ],
      "execution_count": null,
      "outputs": []
    },
    {
      "cell_type": "code",
      "metadata": {
        "id": "5R78JQTSdDiT"
      },
      "source": [
        "import numpy as np"
      ],
      "execution_count": null,
      "outputs": []
    },
    {
      "cell_type": "code",
      "metadata": {
        "id": "F-xSOW0gdAx0"
      },
      "source": [
        "input_ids=np.asarray(input_ids)\n",
        "attention_masks=np.array(attention_masks)"
      ],
      "execution_count": null,
      "outputs": []
    },
    {
      "cell_type": "code",
      "metadata": {
        "id": "DSyKy1MdMFZb"
      },
      "source": [
        "max_count=0\n",
        "for i in toks:\n",
        "  x=len(i)\n",
        "  if x > max_count:\n",
        "    max_count=x\n",
        "  else:\n",
        "    continue\n",
        "\n"
      ],
      "execution_count": null,
      "outputs": []
    },
    {
      "cell_type": "code",
      "metadata": {
        "colab": {
          "base_uri": "https://localhost:8080/"
        },
        "id": "42jUVyYPMk7E",
        "outputId": "b3501b1e-f3c6-4416-e4aa-5b97582695bb"
      },
      "source": [
        "max_count"
      ],
      "execution_count": null,
      "outputs": [
        {
          "output_type": "execute_result",
          "data": {
            "text/plain": [
              "145"
            ]
          },
          "metadata": {
            "tags": []
          },
          "execution_count": 42
        }
      ]
    },
    {
      "cell_type": "code",
      "metadata": {
        "colab": {
          "base_uri": "https://localhost:8080/"
        },
        "id": "ZCBkbO6to3DL",
        "outputId": "1ef3780f-e677-4706-e580-221c785be770"
      },
      "source": [
        "dico"
      ],
      "execution_count": null,
      "outputs": [
        {
          "output_type": "execute_result",
          "data": {
            "text/plain": [
              "{'Harmful_Traditional_practice': 4,\n",
              " 'Physical_violence': 2,\n",
              " 'economic_violence': 5,\n",
              " 'emotional_violence': 3,\n",
              " 'sexual_violence': 1}"
            ]
          },
          "metadata": {
            "tags": []
          },
          "execution_count": 11
        }
      ]
    },
    {
      "cell_type": "code",
      "metadata": {
        "id": "uKGutHbNRTel"
      },
      "source": [
        "sent=list()\n",
        "for i in df_tr['type'].values:\n",
        "  x=dico.get(i)\n",
        "  sent.append(x)\n",
        "\n"
      ],
      "execution_count": null,
      "outputs": []
    },
    {
      "cell_type": "code",
      "metadata": {
        "id": "AgDrNNpUTnrH"
      },
      "source": [
        "import numpy as np\n",
        "train_sent=np.array(sent)"
      ],
      "execution_count": null,
      "outputs": []
    },
    {
      "cell_type": "markdown",
      "metadata": {
        "id": "_NdCPDN60wpo"
      },
      "source": [
        "SUBMISSION FILE"
      ]
    },
    {
      "cell_type": "code",
      "metadata": {
        "id": "TXZgP7g84TSm"
      },
      "source": [
        "model = TFBertForSequenceClassification.from_pretrained(\"bert-base-uncased\", num_labels=6)\n",
        "\n",
        "model.compile(loss= 'sparse_categorical_crossentropy', optimizer='adam', metrics=['accuracy'])"
      ],
      "execution_count": null,
      "outputs": []
    },
    {
      "cell_type": "code",
      "metadata": {
        "id": "vtNptvso0v-H"
      },
      "source": [
        "model.fit([input_ids, attention_masks], train_sent, epochs=5)"
      ],
      "execution_count": null,
      "outputs": []
    },
    {
      "cell_type": "code",
      "metadata": {
        "id": "eb7bqINAWmjh"
      },
      "source": [
        "x=np.argmax(model.predict(pad_te), axis=1)"
      ],
      "execution_count": null,
      "outputs": []
    },
    {
      "cell_type": "code",
      "metadata": {
        "id": "8YKHOUjWinTA"
      },
      "source": [
        "rev=dict()\n",
        "for a,b in dico.items():\n",
        "  rev[b]=a\n",
        "  "
      ],
      "execution_count": null,
      "outputs": []
    },
    {
      "cell_type": "code",
      "metadata": {
        "colab": {
          "base_uri": "https://localhost:8080/"
        },
        "id": "PNx-gBaXhima",
        "outputId": "136828a5-065f-4e2d-b662-bcfb9aecc084"
      },
      "source": [
        "rev"
      ],
      "execution_count": null,
      "outputs": [
        {
          "output_type": "execute_result",
          "data": {
            "text/plain": [
              "{1: 'sexual_violence',\n",
              " 2: 'Physical_violence',\n",
              " 3: 'emotional_violence',\n",
              " 4: 'Harmful_Traditional_practice',\n",
              " 5: 'economic_violence'}"
            ]
          },
          "metadata": {
            "tags": []
          },
          "execution_count": 216
        }
      ]
    },
    {
      "cell_type": "code",
      "metadata": {
        "id": "O16c7yuWbaVB"
      },
      "source": [
        "pred=list()\n",
        "for i in x:\n",
        "    pred.append(rev[i])\n",
        "  \n",
        "\n",
        "df_ID=df_te[['Tweet_ID']]\n",
        "pred=pd.DataFrame(pred)\n",
        "df_sub=pd.concat([df_ID, pred], axis=1)\n",
        "df_sub.rename(columns={0:'type'}, inplace=True)"
      ],
      "execution_count": null,
      "outputs": []
    },
    {
      "cell_type": "code",
      "metadata": {
        "id": "A1hxCxnClmT7"
      },
      "source": [
        "from google.colab import files\n",
        "df_sub.to_csv('./submissionfile21.csv', sep = ',', index = False)"
      ],
      "execution_count": null,
      "outputs": []
    },
    {
      "cell_type": "code",
      "metadata": {
        "colab": {
          "base_uri": "https://localhost:8080/",
          "height": 17
        },
        "id": "pCZiU5bsmH_D",
        "outputId": "aaeeb659-165f-4a94-9dd3-8e7261f3a6f9"
      },
      "source": [
        "files.download('submissionfile21.csv')"
      ],
      "execution_count": null,
      "outputs": [
        {
          "output_type": "display_data",
          "data": {
            "application/javascript": [
              "\n",
              "    async function download(id, filename, size) {\n",
              "      if (!google.colab.kernel.accessAllowed) {\n",
              "        return;\n",
              "      }\n",
              "      const div = document.createElement('div');\n",
              "      const label = document.createElement('label');\n",
              "      label.textContent = `Downloading \"${filename}\": `;\n",
              "      div.appendChild(label);\n",
              "      const progress = document.createElement('progress');\n",
              "      progress.max = size;\n",
              "      div.appendChild(progress);\n",
              "      document.body.appendChild(div);\n",
              "\n",
              "      const buffers = [];\n",
              "      let downloaded = 0;\n",
              "\n",
              "      const channel = await google.colab.kernel.comms.open(id);\n",
              "      // Send a message to notify the kernel that we're ready.\n",
              "      channel.send({})\n",
              "\n",
              "      for await (const message of channel.messages) {\n",
              "        // Send a message to notify the kernel that we're ready.\n",
              "        channel.send({})\n",
              "        if (message.buffers) {\n",
              "          for (const buffer of message.buffers) {\n",
              "            buffers.push(buffer);\n",
              "            downloaded += buffer.byteLength;\n",
              "            progress.value = downloaded;\n",
              "          }\n",
              "        }\n",
              "      }\n",
              "      const blob = new Blob(buffers, {type: 'application/binary'});\n",
              "      const a = document.createElement('a');\n",
              "      a.href = window.URL.createObjectURL(blob);\n",
              "      a.download = filename;\n",
              "      div.appendChild(a);\n",
              "      a.click();\n",
              "      div.remove();\n",
              "    }\n",
              "  "
            ],
            "text/plain": [
              "<IPython.core.display.Javascript object>"
            ]
          },
          "metadata": {
            "tags": []
          }
        },
        {
          "output_type": "display_data",
          "data": {
            "application/javascript": [
              "download(\"download_e7bb36c8-fe4b-44af-862a-d0d38e52e168\", \"submissionfile21.csv\", 468315)"
            ],
            "text/plain": [
              "<IPython.core.display.Javascript object>"
            ]
          },
          "metadata": {
            "tags": []
          }
        }
      ]
    }
  ]
}