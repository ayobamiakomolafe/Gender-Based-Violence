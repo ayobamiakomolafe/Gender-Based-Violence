{
  "nbformat": 4,
  "nbformat_minor": 0,
  "metadata": {
    "colab": {
      "name": "GBV.ipynb",
      "provenance": [],
      "collapsed_sections": []
    },
    "kernelspec": {
      "name": "python3",
      "display_name": "Python 3"
    },
    "language_info": {
      "name": "python"
    },
    "accelerator": "GPU"
  },
  "cells": [
    {
      "cell_type": "code",
      "metadata": {
        "id": "h61SkHwZUuhw"
      },
      "source": [
        "train='/content/drive/MyDrive/Train.csv'\n",
        "test='/content/drive/MyDrive/Test.csv'"
      ],
      "execution_count": 1,
      "outputs": []
    },
    {
      "cell_type": "code",
      "metadata": {
        "id": "5-wtk39lHWGz"
      },
      "source": [
        "import pandas as pd\n",
        "df_tr=pd.read_csv(train)\n",
        "df_te=pd.read_csv(test)"
      ],
      "execution_count": 2,
      "outputs": []
    },
    {
      "cell_type": "code",
      "metadata": {
        "colab": {
          "base_uri": "https://localhost:8080/",
          "height": 203
        },
        "id": "rlvfXqwoPKaT",
        "outputId": "0dbe6c90-48c1-4b61-ee51-727935495d29"
      },
      "source": [
        "df_tr.head()"
      ],
      "execution_count": 3,
      "outputs": [
        {
          "output_type": "execute_result",
          "data": {
            "text/html": [
              "<div>\n",
              "<style scoped>\n",
              "    .dataframe tbody tr th:only-of-type {\n",
              "        vertical-align: middle;\n",
              "    }\n",
              "\n",
              "    .dataframe tbody tr th {\n",
              "        vertical-align: top;\n",
              "    }\n",
              "\n",
              "    .dataframe thead th {\n",
              "        text-align: right;\n",
              "    }\n",
              "</style>\n",
              "<table border=\"1\" class=\"dataframe\">\n",
              "  <thead>\n",
              "    <tr style=\"text-align: right;\">\n",
              "      <th></th>\n",
              "      <th>Tweet_ID</th>\n",
              "      <th>tweet</th>\n",
              "      <th>type</th>\n",
              "    </tr>\n",
              "  </thead>\n",
              "  <tbody>\n",
              "    <tr>\n",
              "      <th>0</th>\n",
              "      <td>ID_0022DWKP</td>\n",
              "      <td>Had a dream i got raped last night. By a guy i...</td>\n",
              "      <td>sexual_violence</td>\n",
              "    </tr>\n",
              "    <tr>\n",
              "      <th>1</th>\n",
              "      <td>ID_00395QYM</td>\n",
              "      <td>he thought the word raped means sex and told m...</td>\n",
              "      <td>sexual_violence</td>\n",
              "    </tr>\n",
              "    <tr>\n",
              "      <th>2</th>\n",
              "      <td>ID_003EOSSF</td>\n",
              "      <td>She NOT TALKING TO ME I WAS RAPED BY 2 MEN 1 M...</td>\n",
              "      <td>sexual_violence</td>\n",
              "    </tr>\n",
              "    <tr>\n",
              "      <th>3</th>\n",
              "      <td>ID_004BBHOD</td>\n",
              "      <td>I was sexually abused for 3 years at age 4 to ...</td>\n",
              "      <td>sexual_violence</td>\n",
              "    </tr>\n",
              "    <tr>\n",
              "      <th>4</th>\n",
              "      <td>ID_004F7516</td>\n",
              "      <td>Chessy Prout can do better by telling the trut...</td>\n",
              "      <td>sexual_violence</td>\n",
              "    </tr>\n",
              "  </tbody>\n",
              "</table>\n",
              "</div>"
            ],
            "text/plain": [
              "      Tweet_ID  ...             type\n",
              "0  ID_0022DWKP  ...  sexual_violence\n",
              "1  ID_00395QYM  ...  sexual_violence\n",
              "2  ID_003EOSSF  ...  sexual_violence\n",
              "3  ID_004BBHOD  ...  sexual_violence\n",
              "4  ID_004F7516  ...  sexual_violence\n",
              "\n",
              "[5 rows x 3 columns]"
            ]
          },
          "metadata": {
            "tags": []
          },
          "execution_count": 3
        }
      ]
    },
    {
      "cell_type": "code",
      "metadata": {
        "id": "5R78JQTSdDiT"
      },
      "source": [
        "import numpy as np"
      ],
      "execution_count": 4,
      "outputs": []
    },
    {
      "cell_type": "code",
      "metadata": {
        "id": "pq7xS4fiJdSK"
      },
      "source": [
        "import tensorflow as tf\n",
        "from tensorflow import keras\n",
        "from tensorflow.keras.preprocessing.text import Tokenizer\n",
        "from tensorflow.keras.preprocessing.sequence import pad_sequences"
      ],
      "execution_count": 5,
      "outputs": []
    },
    {
      "cell_type": "code",
      "metadata": {
        "id": "Si-IibU-JgmK"
      },
      "source": [
        "num_words=2500"
      ],
      "execution_count": 6,
      "outputs": []
    },
    {
      "cell_type": "code",
      "metadata": {
        "id": "rX_UD9IDJlss"
      },
      "source": [
        "tokenizer=Tokenizer(num_words=num_words,oov_token='oov')"
      ],
      "execution_count": 7,
      "outputs": []
    },
    {
      "cell_type": "code",
      "metadata": {
        "id": "h9uJvEgpKpIZ"
      },
      "source": [
        "tokenizer.fit_on_texts(df_tr['tweet'].values)"
      ],
      "execution_count": 8,
      "outputs": []
    },
    {
      "cell_type": "code",
      "metadata": {
        "id": "HZu9l7yxLE1a"
      },
      "source": [
        "tok_tr=tokenizer.texts_to_sequences(df_tr['tweet'].values)\n",
        "tok_te=tokenizer.texts_to_sequences(df_te['tweet'].values)"
      ],
      "execution_count": 9,
      "outputs": []
    },
    {
      "cell_type": "code",
      "metadata": {
        "id": "DSyKy1MdMFZb"
      },
      "source": [
        "max_count=0\n",
        "for i in tok_tr:\n",
        "  x=len(i)\n",
        "  if x > max_count:\n",
        "    max_count=x\n",
        "  else:\n",
        "    continue\n",
        "\n"
      ],
      "execution_count": 15,
      "outputs": []
    },
    {
      "cell_type": "code",
      "metadata": {
        "colab": {
          "base_uri": "https://localhost:8080/"
        },
        "id": "42jUVyYPMk7E",
        "outputId": "5125f92a-9988-4f75-9621-8940223f4a07"
      },
      "source": [
        "max_count"
      ],
      "execution_count": 16,
      "outputs": [
        {
          "output_type": "execute_result",
          "data": {
            "text/plain": [
              "70"
            ]
          },
          "metadata": {
            "tags": []
          },
          "execution_count": 16
        }
      ]
    },
    {
      "cell_type": "code",
      "metadata": {
        "id": "A53d91pmMqk4"
      },
      "source": [
        "pad_tr=pad_sequences(tok_tr,maxlen=max_count,padding='pre', truncating='post')\n",
        "pad_te=pad_sequences(tok_te,maxlen=max_count,padding='pre', truncating='post')"
      ],
      "execution_count": 17,
      "outputs": []
    },
    {
      "cell_type": "code",
      "metadata": {
        "id": "Fil-Ae3kNx8x"
      },
      "source": [
        "uni=df_tr['type'].unique()\n",
        "num=range(1,7)\n",
        "dico=dict()\n",
        "for a, b in zip(uni, num):\n",
        "  dico[a]=b"
      ],
      "execution_count": 18,
      "outputs": []
    },
    {
      "cell_type": "code",
      "metadata": {
        "colab": {
          "base_uri": "https://localhost:8080/"
        },
        "id": "ZCBkbO6to3DL",
        "outputId": "bfd619aa-f0ff-493f-b105-da6fa6e46fb3"
      },
      "source": [
        "dico"
      ],
      "execution_count": 19,
      "outputs": [
        {
          "output_type": "execute_result",
          "data": {
            "text/plain": [
              "{'Harmful_Traditional_practice': 4,\n",
              " 'Physical_violence': 2,\n",
              " 'economic_violence': 5,\n",
              " 'emotional_violence': 3,\n",
              " 'sexual_violence': 1}"
            ]
          },
          "metadata": {
            "tags": []
          },
          "execution_count": 19
        }
      ]
    },
    {
      "cell_type": "code",
      "metadata": {
        "id": "uKGutHbNRTel"
      },
      "source": [
        "sent=list()\n",
        "for i in df_tr['type'].values:\n",
        "  x=dico.get(i)\n",
        "  sent.append(x)\n",
        "\n"
      ],
      "execution_count": 20,
      "outputs": []
    },
    {
      "cell_type": "code",
      "metadata": {
        "id": "AgDrNNpUTnrH"
      },
      "source": [
        "import numpy as np\n",
        "train_sent=np.array(sent)"
      ],
      "execution_count": 21,
      "outputs": []
    },
    {
      "cell_type": "code",
      "metadata": {
        "id": "CbQYdnHwS87Z"
      },
      "source": [
        " model=tf.keras.Sequential([\n",
        "                           tf.keras.layers.Embedding(input_dim=num_words,output_dim=64,input_length=max_count),\n",
        "                           tf.keras.layers.Bidirectional(tf.keras.layers.GRU(1024)),\n",
        "                           \n",
        "                           \n",
        "                           tf.keras.layers.Dense(64, activation='relu'),\n",
        "                           tf.keras.layers.Dense(64, activation='relu'),\n",
        "                           tf.keras.layers.Dense(6, activation='softmax')]) \n",
        "\n",
        "model.compile(loss='sparse_categorical_crossentropy', optimizer='adam', metrics=['accuracy'])\n"
      ],
      "execution_count": 22,
      "outputs": []
    },
    {
      "cell_type": "markdown",
      "metadata": {
        "id": "_NdCPDN60wpo"
      },
      "source": [
        "SUBMISSION FILE"
      ]
    },
    {
      "cell_type": "code",
      "metadata": {
        "id": "vtNptvso0v-H"
      },
      "source": [
        "model.fit(pad_tr, train_sent, epochs=5)"
      ],
      "execution_count": null,
      "outputs": []
    },
    {
      "cell_type": "code",
      "metadata": {
        "id": "eb7bqINAWmjh"
      },
      "source": [
        "x=np.argmax(model.predict(pad_te), axis=1)"
      ],
      "execution_count": null,
      "outputs": []
    },
    {
      "cell_type": "code",
      "metadata": {
        "id": "8YKHOUjWinTA"
      },
      "source": [
        "rev=dict()\n",
        "for a,b in dico.items():\n",
        "  rev[b]=a\n",
        "  "
      ],
      "execution_count": null,
      "outputs": []
    },
    {
      "cell_type": "code",
      "metadata": {
        "colab": {
          "base_uri": "https://localhost:8080/"
        },
        "id": "PNx-gBaXhima",
        "outputId": "136828a5-065f-4e2d-b662-bcfb9aecc084"
      },
      "source": [
        "rev"
      ],
      "execution_count": null,
      "outputs": [
        {
          "output_type": "execute_result",
          "data": {
            "text/plain": [
              "{1: 'sexual_violence',\n",
              " 2: 'Physical_violence',\n",
              " 3: 'emotional_violence',\n",
              " 4: 'Harmful_Traditional_practice',\n",
              " 5: 'economic_violence'}"
            ]
          },
          "metadata": {
            "tags": []
          },
          "execution_count": 216
        }
      ]
    },
    {
      "cell_type": "code",
      "metadata": {
        "id": "O16c7yuWbaVB"
      },
      "source": [
        "pred=list()\n",
        "for i in x:\n",
        "    pred.append(rev[i])\n",
        "  \n",
        "\n",
        "df_ID=df_te[['Tweet_ID']]\n",
        "pred=pd.DataFrame(pred)\n",
        "df_sub=pd.concat([df_ID, pred], axis=1)\n",
        "df_sub.rename(columns={0:'type'}, inplace=True)"
      ],
      "execution_count": null,
      "outputs": []
    },
    {
      "cell_type": "code",
      "metadata": {
        "id": "A1hxCxnClmT7"
      },
      "source": [
        "from google.colab import files\n",
        "df_sub.to_csv('./submissionfile21.csv', sep = ',', index = False)"
      ],
      "execution_count": null,
      "outputs": []
    },
    {
      "cell_type": "code",
      "metadata": {
        "colab": {
          "base_uri": "https://localhost:8080/",
          "height": 17
        },
        "id": "pCZiU5bsmH_D",
        "outputId": "aaeeb659-165f-4a94-9dd3-8e7261f3a6f9"
      },
      "source": [
        "files.download('submissionfile21.csv')"
      ],
      "execution_count": null,
      "outputs": [
        {
          "output_type": "display_data",
          "data": {
            "application/javascript": [
              "\n",
              "    async function download(id, filename, size) {\n",
              "      if (!google.colab.kernel.accessAllowed) {\n",
              "        return;\n",
              "      }\n",
              "      const div = document.createElement('div');\n",
              "      const label = document.createElement('label');\n",
              "      label.textContent = `Downloading \"${filename}\": `;\n",
              "      div.appendChild(label);\n",
              "      const progress = document.createElement('progress');\n",
              "      progress.max = size;\n",
              "      div.appendChild(progress);\n",
              "      document.body.appendChild(div);\n",
              "\n",
              "      const buffers = [];\n",
              "      let downloaded = 0;\n",
              "\n",
              "      const channel = await google.colab.kernel.comms.open(id);\n",
              "      // Send a message to notify the kernel that we're ready.\n",
              "      channel.send({})\n",
              "\n",
              "      for await (const message of channel.messages) {\n",
              "        // Send a message to notify the kernel that we're ready.\n",
              "        channel.send({})\n",
              "        if (message.buffers) {\n",
              "          for (const buffer of message.buffers) {\n",
              "            buffers.push(buffer);\n",
              "            downloaded += buffer.byteLength;\n",
              "            progress.value = downloaded;\n",
              "          }\n",
              "        }\n",
              "      }\n",
              "      const blob = new Blob(buffers, {type: 'application/binary'});\n",
              "      const a = document.createElement('a');\n",
              "      a.href = window.URL.createObjectURL(blob);\n",
              "      a.download = filename;\n",
              "      div.appendChild(a);\n",
              "      a.click();\n",
              "      div.remove();\n",
              "    }\n",
              "  "
            ],
            "text/plain": [
              "<IPython.core.display.Javascript object>"
            ]
          },
          "metadata": {
            "tags": []
          }
        },
        {
          "output_type": "display_data",
          "data": {
            "application/javascript": [
              "download(\"download_e7bb36c8-fe4b-44af-862a-d0d38e52e168\", \"submissionfile21.csv\", 468315)"
            ],
            "text/plain": [
              "<IPython.core.display.Javascript object>"
            ]
          },
          "metadata": {
            "tags": []
          }
        }
      ]
    }
  ]
}